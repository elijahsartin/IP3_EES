{
 "cells": [
  {
   "cell_type": "markdown",
   "id": "ed08a3c3-a49c-45a8-bb6f-1a3c75ef7fa3",
   "metadata": {},
   "source": [
    "# Individual Project #3"
   ]
  },
  {
   "cell_type": "markdown",
   "id": "a0ae2eb3-c0e2-4a0d-a198-5fba0191c061",
   "metadata": {},
   "source": [
    "## Author: Elijah Sartin\n",
    "### Version: 0.1.0\n",
    "### Spring 2022 Section 01"
   ]
  },
  {
   "cell_type": "code",
   "execution_count": 2,
   "id": "98622e89-1491-4f46-b34c-60d7efe515fb",
   "metadata": {},
   "outputs": [],
   "source": [
    "import pandas as pd\n",
    "import numpy as np\n",
    "import matplotlib.pyplot as plt\n",
    "import seaborn as sns\n",
    "%matplotlib inline"
   ]
  },
  {
   "cell_type": "markdown",
   "id": "1b371a6a-3349-401a-a238-a07bd95b2706",
   "metadata": {},
   "source": [
    "Create function to import a file, convert its dates to date_time, and add a company column."
   ]
  },
  {
   "cell_type": "code",
   "execution_count": 3,
   "id": "6ebcb6fe-bea6-4fc3-af68-cfec081caf65",
   "metadata": {},
   "outputs": [],
   "source": [
    "def importfile(file):\n",
    "    df = pd.read_csv(file)\n",
    "    df.Date = pd.to_datetime(df.Date)\n",
    "    df.insert(loc = 0, column = 'Company', value = (file[:-4]))\n",
    "    return(df)"
   ]
  },
  {
   "cell_type": "markdown",
   "id": "a1e972f9-2e17-478f-beaf-d9e791bf3ddb",
   "metadata": {},
   "source": [
    "Apply function to all of the files."
   ]
  },
  {
   "cell_type": "code",
   "execution_count": 4,
   "id": "211a87fb-e75e-4519-891b-d12e51c84273",
   "metadata": {},
   "outputs": [],
   "source": [
    "Amprion = importfile('Amprion.csv')"
   ]
  },
  {
   "cell_type": "code",
   "execution_count": 5,
   "id": "724befb7-f8e1-4b0f-9cb4-adf0c7cf6455",
   "metadata": {},
   "outputs": [],
   "source": [
    "Hertz = importfile('50Hertz.csv')"
   ]
  },
  {
   "cell_type": "code",
   "execution_count": 6,
   "id": "a36d19d3-c0e4-43e3-af51-61d477162899",
   "metadata": {},
   "outputs": [],
   "source": [
    "Tennet = importfile('TenneTTSO.csv')"
   ]
  },
  {
   "cell_type": "code",
   "execution_count": 7,
   "id": "a3328bd7-38dc-483c-b8bd-83f3bde76adc",
   "metadata": {},
   "outputs": [],
   "source": [
    "Transnet = importfile('TransnetBW.csv')"
   ]
  },
  {
   "cell_type": "markdown",
   "id": "fc65b5c9-e919-4eb9-9e82-477fa85bc59e",
   "metadata": {},
   "source": [
    "Stack the dataframes on top of eachother"
   ]
  },
  {
   "cell_type": "code",
   "execution_count": 8,
   "id": "59e92463-35f1-4494-b110-b67f4bafba3f",
   "metadata": {},
   "outputs": [],
   "source": [
    "stack = pd.concat([Amprion,Hertz,Tennet,Transnet])"
   ]
  },
  {
   "cell_type": "markdown",
   "id": "d7d4a3c2-e13d-4f5f-a483-c816d95cee71",
   "metadata": {},
   "source": [
    "Test number of columns and presense of columns"
   ]
  },
  {
   "cell_type": "code",
   "execution_count": 9,
   "id": "5216ea7a-da68-418f-b2a4-cd50cf0c065a",
   "metadata": {},
   "outputs": [
    {
     "data": {
      "text/plain": [
       "Index(['Company', 'Date', '00:00:00', '00:15:00', '00:30:00', '00:45:00',\n",
       "       '01:00:00', '01:15:00', '01:30:00', '01:45:00', '02:00:00', '02:15:00',\n",
       "       '02:30:00', '02:45:00', '03:00:00', '03:15:00', '03:30:00', '03:45:00',\n",
       "       '04:00:00', '04:15:00', '04:30:00', '04:45:00', '05:00:00', '05:15:00',\n",
       "       '05:30:00', '05:45:00', '06:00:00', '06:15:00', '06:30:00', '06:45:00',\n",
       "       '07:00:00', '07:15:00', '07:30:00', '07:45:00', '08:00:00', '08:15:00',\n",
       "       '08:30:00', '08:45:00', '09:00:00', '09:15:00', '09:30:00', '09:45:00',\n",
       "       '10:00:00', '10:15:00', '10:30:00', '10:45:00', '11:00:00', '11:15:00',\n",
       "       '11:30:00', '11:45:00', '12:00:00', '12:15:00', '12:30:00', '12:45:00',\n",
       "       '13:00:00', '13:15:00', '13:30:00', '13:45:00', '14:00:00', '14:15:00',\n",
       "       '14:30:00', '14:45:00', '15:00:00', '15:15:00', '15:30:00', '15:45:00',\n",
       "       '16:00:00', '16:15:00', '16:30:00', '16:45:00', '17:00:00', '17:15:00',\n",
       "       '17:30:00', '17:45:00', '18:00:00', '18:15:00', '18:30:00', '18:45:00',\n",
       "       '19:00:00', '19:15:00', '19:30:00', '19:45:00', '20:00:00', '20:15:00',\n",
       "       '20:30:00', '20:45:00', '21:00:00', '21:15:00', '21:30:00', '21:45:00',\n",
       "       '22:00:00', '22:15:00', '22:30:00', '22:45:00', '23:00:00', '23:15:00',\n",
       "       '23:30:00', '23:45:00'],\n",
       "      dtype='object')"
      ]
     },
     "execution_count": 9,
     "metadata": {},
     "output_type": "execute_result"
    }
   ],
   "source": [
    "stack.columns"
   ]
  },
  {
   "cell_type": "code",
   "execution_count": 10,
   "id": "88278350-d622-41f2-8278-76b928d33143",
   "metadata": {},
   "outputs": [
    {
     "data": {
      "text/plain": [
       "98"
      ]
     },
     "execution_count": 10,
     "metadata": {},
     "output_type": "execute_result"
    }
   ],
   "source": [
    "len(stack.columns)"
   ]
  },
  {
   "cell_type": "markdown",
   "id": "72abb51a-829f-4bd7-b22e-05abe962eb95",
   "metadata": {},
   "source": [
    "Create new dataframe grouped by Company and the year"
   ]
  },
  {
   "cell_type": "code",
   "execution_count": 11,
   "id": "dd303d14-b136-4421-8761-aa53d5c8640f",
   "metadata": {},
   "outputs": [],
   "source": [
    "company = stack.groupby([stack.Company, stack.Date.dt.to_period(\"Y\")]).mean()"
   ]
  },
  {
   "cell_type": "markdown",
   "id": "752f716a-7e14-44a4-9d8e-c4fc406d2838",
   "metadata": {},
   "source": [
    "Test the aggregated data"
   ]
  },
  {
   "cell_type": "code",
   "execution_count": 12,
   "id": "fdf8462a-8b31-48b0-adcf-fa62d06e3fe7",
   "metadata": {},
   "outputs": [
    {
     "data": {
      "text/html": [
       "<div>\n",
       "<style scoped>\n",
       "    .dataframe tbody tr th:only-of-type {\n",
       "        vertical-align: middle;\n",
       "    }\n",
       "\n",
       "    .dataframe tbody tr th {\n",
       "        vertical-align: top;\n",
       "    }\n",
       "\n",
       "    .dataframe thead th {\n",
       "        text-align: right;\n",
       "    }\n",
       "</style>\n",
       "<table border=\"1\" class=\"dataframe\">\n",
       "  <thead>\n",
       "    <tr style=\"text-align: right;\">\n",
       "      <th></th>\n",
       "      <th></th>\n",
       "      <th>00:00:00</th>\n",
       "      <th>00:15:00</th>\n",
       "      <th>00:30:00</th>\n",
       "      <th>00:45:00</th>\n",
       "      <th>01:00:00</th>\n",
       "      <th>01:15:00</th>\n",
       "      <th>01:30:00</th>\n",
       "      <th>01:45:00</th>\n",
       "      <th>02:00:00</th>\n",
       "      <th>02:15:00</th>\n",
       "      <th>...</th>\n",
       "      <th>21:30:00</th>\n",
       "      <th>21:45:00</th>\n",
       "      <th>22:00:00</th>\n",
       "      <th>22:15:00</th>\n",
       "      <th>22:30:00</th>\n",
       "      <th>22:45:00</th>\n",
       "      <th>23:00:00</th>\n",
       "      <th>23:15:00</th>\n",
       "      <th>23:30:00</th>\n",
       "      <th>23:45:00</th>\n",
       "    </tr>\n",
       "    <tr>\n",
       "      <th>Company</th>\n",
       "      <th>Date</th>\n",
       "      <th></th>\n",
       "      <th></th>\n",
       "      <th></th>\n",
       "      <th></th>\n",
       "      <th></th>\n",
       "      <th></th>\n",
       "      <th></th>\n",
       "      <th></th>\n",
       "      <th></th>\n",
       "      <th></th>\n",
       "      <th></th>\n",
       "      <th></th>\n",
       "      <th></th>\n",
       "      <th></th>\n",
       "      <th></th>\n",
       "      <th></th>\n",
       "      <th></th>\n",
       "      <th></th>\n",
       "      <th></th>\n",
       "      <th></th>\n",
       "      <th></th>\n",
       "    </tr>\n",
       "  </thead>\n",
       "  <tbody>\n",
       "    <tr>\n",
       "      <th rowspan=\"2\" valign=\"top\">50Hertz</th>\n",
       "      <th>2019</th>\n",
       "      <td>143.320611</td>\n",
       "      <td>142.351145</td>\n",
       "      <td>142.366412</td>\n",
       "      <td>142.000000</td>\n",
       "      <td>141.900763</td>\n",
       "      <td>141.381679</td>\n",
       "      <td>140.648855</td>\n",
       "      <td>140.923664</td>\n",
       "      <td>140.732824</td>\n",
       "      <td>140.458015</td>\n",
       "      <td>...</td>\n",
       "      <td>144.328244</td>\n",
       "      <td>144.839695</td>\n",
       "      <td>144.709924</td>\n",
       "      <td>144.641221</td>\n",
       "      <td>144.442748</td>\n",
       "      <td>144.274809</td>\n",
       "      <td>144.954198</td>\n",
       "      <td>144.206107</td>\n",
       "      <td>144.076336</td>\n",
       "      <td>144.259542</td>\n",
       "    </tr>\n",
       "    <tr>\n",
       "      <th>2020</th>\n",
       "      <td>141.894737</td>\n",
       "      <td>141.124060</td>\n",
       "      <td>140.936090</td>\n",
       "      <td>140.838346</td>\n",
       "      <td>140.281955</td>\n",
       "      <td>140.037594</td>\n",
       "      <td>139.462406</td>\n",
       "      <td>139.112782</td>\n",
       "      <td>138.646617</td>\n",
       "      <td>138.560150</td>\n",
       "      <td>...</td>\n",
       "      <td>147.590226</td>\n",
       "      <td>147.214286</td>\n",
       "      <td>147.075188</td>\n",
       "      <td>146.661654</td>\n",
       "      <td>145.609023</td>\n",
       "      <td>144.624060</td>\n",
       "      <td>143.864662</td>\n",
       "      <td>143.680451</td>\n",
       "      <td>143.112782</td>\n",
       "      <td>142.338346</td>\n",
       "    </tr>\n",
       "    <tr>\n",
       "      <th rowspan=\"2\" valign=\"top\">Amprion</th>\n",
       "      <th>2019</th>\n",
       "      <td>106.992366</td>\n",
       "      <td>106.679389</td>\n",
       "      <td>106.091603</td>\n",
       "      <td>105.549618</td>\n",
       "      <td>108.083969</td>\n",
       "      <td>108.282443</td>\n",
       "      <td>108.129771</td>\n",
       "      <td>107.465649</td>\n",
       "      <td>107.282443</td>\n",
       "      <td>106.671756</td>\n",
       "      <td>...</td>\n",
       "      <td>115.412214</td>\n",
       "      <td>114.572519</td>\n",
       "      <td>114.076336</td>\n",
       "      <td>112.961832</td>\n",
       "      <td>112.595420</td>\n",
       "      <td>112.427481</td>\n",
       "      <td>111.343511</td>\n",
       "      <td>110.946565</td>\n",
       "      <td>110.328244</td>\n",
       "      <td>107.473282</td>\n",
       "    </tr>\n",
       "    <tr>\n",
       "      <th>2020</th>\n",
       "      <td>93.751880</td>\n",
       "      <td>94.312030</td>\n",
       "      <td>94.424812</td>\n",
       "      <td>94.033835</td>\n",
       "      <td>93.657895</td>\n",
       "      <td>93.563910</td>\n",
       "      <td>93.146617</td>\n",
       "      <td>92.812030</td>\n",
       "      <td>92.571429</td>\n",
       "      <td>92.127820</td>\n",
       "      <td>...</td>\n",
       "      <td>96.515038</td>\n",
       "      <td>96.338346</td>\n",
       "      <td>96.368421</td>\n",
       "      <td>96.379699</td>\n",
       "      <td>96.176692</td>\n",
       "      <td>94.898496</td>\n",
       "      <td>95.018797</td>\n",
       "      <td>94.973684</td>\n",
       "      <td>94.691729</td>\n",
       "      <td>94.383459</td>\n",
       "    </tr>\n",
       "    <tr>\n",
       "      <th rowspan=\"2\" valign=\"top\">TenneTTSO</th>\n",
       "      <th>2019</th>\n",
       "      <td>150.866183</td>\n",
       "      <td>150.450992</td>\n",
       "      <td>150.152901</td>\n",
       "      <td>149.611679</td>\n",
       "      <td>148.946412</td>\n",
       "      <td>148.629847</td>\n",
       "      <td>148.808473</td>\n",
       "      <td>148.620382</td>\n",
       "      <td>148.236031</td>\n",
       "      <td>147.931298</td>\n",
       "      <td>...</td>\n",
       "      <td>152.761908</td>\n",
       "      <td>152.608015</td>\n",
       "      <td>152.675802</td>\n",
       "      <td>152.765115</td>\n",
       "      <td>152.631374</td>\n",
       "      <td>152.897176</td>\n",
       "      <td>152.363740</td>\n",
       "      <td>152.357405</td>\n",
       "      <td>152.236565</td>\n",
       "      <td>151.705496</td>\n",
       "    </tr>\n",
       "    <tr>\n",
       "      <th>2020</th>\n",
       "      <td>141.603835</td>\n",
       "      <td>141.457105</td>\n",
       "      <td>141.203120</td>\n",
       "      <td>141.206278</td>\n",
       "      <td>140.931617</td>\n",
       "      <td>140.642105</td>\n",
       "      <td>140.583008</td>\n",
       "      <td>140.537632</td>\n",
       "      <td>140.579962</td>\n",
       "      <td>140.784511</td>\n",
       "      <td>...</td>\n",
       "      <td>145.523571</td>\n",
       "      <td>144.793947</td>\n",
       "      <td>144.206466</td>\n",
       "      <td>143.894850</td>\n",
       "      <td>143.764248</td>\n",
       "      <td>143.694135</td>\n",
       "      <td>143.535902</td>\n",
       "      <td>142.563008</td>\n",
       "      <td>142.350075</td>\n",
       "      <td>141.976128</td>\n",
       "    </tr>\n",
       "    <tr>\n",
       "      <th rowspan=\"2\" valign=\"top\">TransnetBW</th>\n",
       "      <th>2019</th>\n",
       "      <td>39.293740</td>\n",
       "      <td>39.462290</td>\n",
       "      <td>39.165191</td>\n",
       "      <td>39.138321</td>\n",
       "      <td>39.369084</td>\n",
       "      <td>39.028779</td>\n",
       "      <td>38.834580</td>\n",
       "      <td>38.684504</td>\n",
       "      <td>38.211145</td>\n",
       "      <td>38.427099</td>\n",
       "      <td>...</td>\n",
       "      <td>38.739847</td>\n",
       "      <td>38.871527</td>\n",
       "      <td>38.754275</td>\n",
       "      <td>38.998473</td>\n",
       "      <td>39.014733</td>\n",
       "      <td>39.522290</td>\n",
       "      <td>39.187099</td>\n",
       "      <td>39.421832</td>\n",
       "      <td>39.499924</td>\n",
       "      <td>39.299924</td>\n",
       "    </tr>\n",
       "    <tr>\n",
       "      <th>2020</th>\n",
       "      <td>30.899023</td>\n",
       "      <td>30.604737</td>\n",
       "      <td>30.354023</td>\n",
       "      <td>29.871128</td>\n",
       "      <td>29.731955</td>\n",
       "      <td>29.642481</td>\n",
       "      <td>29.409511</td>\n",
       "      <td>29.432857</td>\n",
       "      <td>29.453045</td>\n",
       "      <td>29.410301</td>\n",
       "      <td>...</td>\n",
       "      <td>31.489662</td>\n",
       "      <td>31.425075</td>\n",
       "      <td>31.569248</td>\n",
       "      <td>31.510526</td>\n",
       "      <td>31.356391</td>\n",
       "      <td>31.330113</td>\n",
       "      <td>31.271917</td>\n",
       "      <td>30.962932</td>\n",
       "      <td>30.978346</td>\n",
       "      <td>30.907481</td>\n",
       "    </tr>\n",
       "  </tbody>\n",
       "</table>\n",
       "<p>8 rows × 96 columns</p>\n",
       "</div>"
      ],
      "text/plain": [
       "                   00:00:00    00:15:00    00:30:00    00:45:00    01:00:00  \\\n",
       "Company    Date                                                               \n",
       "50Hertz    2019  143.320611  142.351145  142.366412  142.000000  141.900763   \n",
       "           2020  141.894737  141.124060  140.936090  140.838346  140.281955   \n",
       "Amprion    2019  106.992366  106.679389  106.091603  105.549618  108.083969   \n",
       "           2020   93.751880   94.312030   94.424812   94.033835   93.657895   \n",
       "TenneTTSO  2019  150.866183  150.450992  150.152901  149.611679  148.946412   \n",
       "           2020  141.603835  141.457105  141.203120  141.206278  140.931617   \n",
       "TransnetBW 2019   39.293740   39.462290   39.165191   39.138321   39.369084   \n",
       "           2020   30.899023   30.604737   30.354023   29.871128   29.731955   \n",
       "\n",
       "                   01:15:00    01:30:00    01:45:00    02:00:00    02:15:00  \\\n",
       "Company    Date                                                               \n",
       "50Hertz    2019  141.381679  140.648855  140.923664  140.732824  140.458015   \n",
       "           2020  140.037594  139.462406  139.112782  138.646617  138.560150   \n",
       "Amprion    2019  108.282443  108.129771  107.465649  107.282443  106.671756   \n",
       "           2020   93.563910   93.146617   92.812030   92.571429   92.127820   \n",
       "TenneTTSO  2019  148.629847  148.808473  148.620382  148.236031  147.931298   \n",
       "           2020  140.642105  140.583008  140.537632  140.579962  140.784511   \n",
       "TransnetBW 2019   39.028779   38.834580   38.684504   38.211145   38.427099   \n",
       "           2020   29.642481   29.409511   29.432857   29.453045   29.410301   \n",
       "\n",
       "                 ...    21:30:00    21:45:00    22:00:00    22:15:00  \\\n",
       "Company    Date  ...                                                   \n",
       "50Hertz    2019  ...  144.328244  144.839695  144.709924  144.641221   \n",
       "           2020  ...  147.590226  147.214286  147.075188  146.661654   \n",
       "Amprion    2019  ...  115.412214  114.572519  114.076336  112.961832   \n",
       "           2020  ...   96.515038   96.338346   96.368421   96.379699   \n",
       "TenneTTSO  2019  ...  152.761908  152.608015  152.675802  152.765115   \n",
       "           2020  ...  145.523571  144.793947  144.206466  143.894850   \n",
       "TransnetBW 2019  ...   38.739847   38.871527   38.754275   38.998473   \n",
       "           2020  ...   31.489662   31.425075   31.569248   31.510526   \n",
       "\n",
       "                   22:30:00    22:45:00    23:00:00    23:15:00    23:30:00  \\\n",
       "Company    Date                                                               \n",
       "50Hertz    2019  144.442748  144.274809  144.954198  144.206107  144.076336   \n",
       "           2020  145.609023  144.624060  143.864662  143.680451  143.112782   \n",
       "Amprion    2019  112.595420  112.427481  111.343511  110.946565  110.328244   \n",
       "           2020   96.176692   94.898496   95.018797   94.973684   94.691729   \n",
       "TenneTTSO  2019  152.631374  152.897176  152.363740  152.357405  152.236565   \n",
       "           2020  143.764248  143.694135  143.535902  142.563008  142.350075   \n",
       "TransnetBW 2019   39.014733   39.522290   39.187099   39.421832   39.499924   \n",
       "           2020   31.356391   31.330113   31.271917   30.962932   30.978346   \n",
       "\n",
       "                   23:45:00  \n",
       "Company    Date              \n",
       "50Hertz    2019  144.259542  \n",
       "           2020  142.338346  \n",
       "Amprion    2019  107.473282  \n",
       "           2020   94.383459  \n",
       "TenneTTSO  2019  151.705496  \n",
       "           2020  141.976128  \n",
       "TransnetBW 2019   39.299924  \n",
       "           2020   30.907481  \n",
       "\n",
       "[8 rows x 96 columns]"
      ]
     },
     "execution_count": 12,
     "metadata": {},
     "output_type": "execute_result"
    }
   ],
   "source": [
    "company.head(10)"
   ]
  },
  {
   "cell_type": "markdown",
   "id": "a3c5b860-fa93-4a94-b47d-37d5b7bbf602",
   "metadata": {},
   "source": [
    "Extract dataframes containing data for midnight and noon"
   ]
  },
  {
   "cell_type": "code",
   "execution_count": 13,
   "id": "bc8a74a7-4f7c-4b5a-a38d-b2ebedd9a5d1",
   "metadata": {},
   "outputs": [],
   "source": [
    "noon = company['12:00:00']\n",
    "midnight = company['00:00:00']"
   ]
  },
  {
   "cell_type": "code",
   "execution_count": 14,
   "id": "1350c1ed-05e5-4314-951f-5f9825cc74a9",
   "metadata": {},
   "outputs": [
    {
     "data": {
      "text/plain": [
       "Company     Date\n",
       "50Hertz     2019    142.473282\n",
       "            2020    163.398496\n",
       "Amprion     2019    100.572519\n",
       "            2020    101.357143\n",
       "TenneTTSO   2019    149.229466\n",
       "            2020    162.944436\n",
       "TransnetBW  2019     37.772366\n",
       "            2020     25.731053\n",
       "Name: 12:00:00, dtype: float64"
      ]
     },
     "execution_count": 14,
     "metadata": {},
     "output_type": "execute_result"
    }
   ],
   "source": [
    "noon"
   ]
  },
  {
   "cell_type": "code",
   "execution_count": 15,
   "id": "78e3d7af-f479-4d7f-8dd4-72934c4bb60e",
   "metadata": {},
   "outputs": [
    {
     "data": {
      "text/plain": [
       "Company     Date\n",
       "50Hertz     2019    143.320611\n",
       "            2020    141.894737\n",
       "Amprion     2019    106.992366\n",
       "            2020     93.751880\n",
       "TenneTTSO   2019    150.866183\n",
       "            2020    141.603835\n",
       "TransnetBW  2019     39.293740\n",
       "            2020     30.899023\n",
       "Name: 00:00:00, dtype: float64"
      ]
     },
     "execution_count": 15,
     "metadata": {},
     "output_type": "execute_result"
    }
   ],
   "source": [
    "midnight"
   ]
  },
  {
   "cell_type": "markdown",
   "id": "8474a109-b568-4d28-9d0e-dbf4c8de2dd2",
   "metadata": {},
   "source": [
    "Create horizontal bar charts for each of the two dataframes"
   ]
  },
  {
   "cell_type": "code",
   "execution_count": 16,
   "id": "f84ee0a0-a001-47d3-a254-e1f566c6c6de",
   "metadata": {},
   "outputs": [
    {
     "data": {
      "image/png": "[encoded data removed]",
      "text/plain": [
       "<Figure size 432x288 with 1 Axes>"
      ]
     },
     "metadata": {
      "needs_background": "light"
     },
     "output_type": "display_data"
    }
   ],
   "source": [
    "barh_midnight = plt.figure()\n",
    "midnight.sort_values().plot(kind='barh')\n",
    "\n",
    "plt.title('TW/hours by Company/Year @ Midnight')\n",
    "plt.savefig('barh_midnight.png')"
   ]
  },
  {
   "cell_type": "code",
   "execution_count": 17,
   "id": "1f81bbea-e4e1-456a-85b1-952868d99b57",
   "metadata": {},
   "outputs": [
    {
     "data": {
      "image/png": "[encoded data removed]",
      "text/plain": [
       "<Figure size 432x288 with 1 Axes>"
      ]
     },
     "metadata": {
      "needs_background": "light"
     },
     "output_type": "display_data"
    }
   ],
   "source": [
    "barh_noon = plt.figure()\n",
    "noon.sort_values().plot(kind='barh', color = 'red')\n",
    "\n",
    "plt.title('TW/hours by Company/Year @ Noon')\n",
    "plt.savefig('barh_noon.png')"
   ]
  },
  {
   "cell_type": "markdown",
   "id": "6c5f2763-b151-4605-ba34-067b85da6e59",
   "metadata": {},
   "source": [
    "Combine both bar graphs into a single bargraph in grayscale"
   ]
  },
  {
   "cell_type": "code",
   "execution_count": 18,
   "id": "97ac11d1-b072-4fc4-b3ad-4efe689c5622",
   "metadata": {},
   "outputs": [
    {
     "data": {
      "image/png": "[encoded data removed]",
      "text/plain": [
       "<Figure size 432x288 with 2 Axes>"
      ]
     },
     "metadata": {
      "needs_background": "light"
     },
     "output_type": "display_data"
    }
   ],
   "source": [
    "combined_barh, (mid_ax, noon_ax) = plt.subplots(2, 1, sharex=True)\n",
    "midnight.sort_values().plot(kind='barh', ax=mid_ax, color='silver', title='TW/hours by Company/Year @ Midnight')\n",
    "noon.sort_values().plot(kind='barh', ax=noon_ax, color='gray', title='TW/hours by Company/Year @ Noon')\n",
    "plt.savefig('combined_bar_chart.png')"
   ]
  },
  {
   "cell_type": "markdown",
   "id": "fb403eff-ad8c-48f7-a1da-5a33b954a144",
   "metadata": {},
   "source": [
    "Create a daily view function that accepts a dataframe, company, date, and color, and returns a graph of that company/day"
   ]
  },
  {
   "cell_type": "code",
   "execution_count": 19,
   "id": "46955729-0540-4831-a7c1-0ae4f6a1aa31",
   "metadata": {},
   "outputs": [],
   "source": [
    "def daily_view(dataframe, company, date, color='purple'):\n",
    "    df = dataframe.query(f'Company==\"{company}\" and Date==\"{date}\"').drop(columns = ['Company','Date']).melt()\n",
    "\n",
    "    fig = df.plot(\n",
    "        kind = 'area',\n",
    "        figsize=(8,4),\n",
    "        x='variable',\n",
    "        y='value',\n",
    "        color=f'{color}',\n",
    "        title = f'Power Production: {company}/{date}',\n",
    "        legend=False\n",
    "    )\n",
    "    fig.set_xlabel('Time of Day')\n",
    "    fig.set_ylabel('TW/h Generated')"
   ]
  },
  {
   "cell_type": "code",
   "execution_count": 20,
   "id": "06b86ea5-bb20-433e-9e13-5bb5cfbf47a8",
   "metadata": {},
   "outputs": [
    {
     "data": {
      "image/png": "[encoded data removed]",
      "text/plain": [
       "<Figure size 576x288 with 1 Axes>"
      ]
     },
     "metadata": {
      "needs_background": "light"
     },
     "output_type": "display_data"
    }
   ],
   "source": [
    "daily_view(stack,'50Hertz','2019-08-24','purple')"
   ]
  },
  {
   "cell_type": "markdown",
   "id": "18c315cd-1bde-4834-9ee5-b6ce58d00809",
   "metadata": {},
   "source": [
    "Create the Following Plots:\n",
    "- Line Chart of Fares within two different boroughs\n",
    "- Box/Whisker plot of car crash insurance premiums\n",
    "- Histograms and Kernel Density of Car Crash Speeding Statistics\n",
    "- Heatmap of Car Crash Statistic Correlation\n",
    "- Seaborn Pair Plot Comparing Titanic Passenger Statistics"
   ]
  },
  {
   "cell_type": "code",
   "execution_count": 90,
   "id": "5d9b3dc0-5eb3-4135-91bb-2e484f1fa16d",
   "metadata": {},
   "outputs": [
    {
     "data": {
      "text/plain": [
       "['anagrams',\n",
       " 'anscombe',\n",
       " 'attention',\n",
       " 'brain_networks',\n",
       " 'car_crashes',\n",
       " 'diamonds',\n",
       " 'dots',\n",
       " 'exercise',\n",
       " 'flights',\n",
       " 'fmri',\n",
       " 'gammas',\n",
       " 'geyser',\n",
       " 'iris',\n",
       " 'mpg',\n",
       " 'penguins',\n",
       " 'planets',\n",
       " 'taxis',\n",
       " 'tips',\n",
       " 'titanic']"
      ]
     },
     "execution_count": 90,
     "metadata": {},
     "output_type": "execute_result"
    }
   ],
   "source": [
    "sns.get_dataset_names()"
   ]
  },
  {
   "cell_type": "code",
   "execution_count": 91,
   "id": "51b5ad36-5899-46fc-b95f-941a89122fcb",
   "metadata": {},
   "outputs": [],
   "source": [
    "taxis = sns.load_dataset('taxis')"
   ]
  },
  {
   "cell_type": "code",
   "execution_count": 92,
   "id": "c805ad07-19fe-489f-88fb-01c653a4a800",
   "metadata": {},
   "outputs": [
    {
     "data": {
      "text/plain": [
       "0       Manhattan\n",
       "1       Manhattan\n",
       "2       Manhattan\n",
       "3       Manhattan\n",
       "4       Manhattan\n",
       "          ...    \n",
       "6428    Manhattan\n",
       "6429       Queens\n",
       "6430     Brooklyn\n",
       "6431     Brooklyn\n",
       "6432     Brooklyn\n",
       "Name: pickup_borough, Length: 6433, dtype: object"
      ]
     },
     "execution_count": 92,
     "metadata": {},
     "output_type": "execute_result"
    }
   ],
   "source": [
    "taxis.pickup_borough"
   ]
  },
  {
   "cell_type": "code",
   "execution_count": 93,
   "id": "5c996945-4ead-4f84-b90a-f2634066b63d",
   "metadata": {},
   "outputs": [],
   "source": [
    "Man1 = taxis.query(\"pickup_borough=='Manhattan' and dropoff_borough=='Manhattan'\")\n",
    "Man1 = Man1.sort_values(by='distance')\n",
    "Man1.index = Man1.distance\n",
    "Brook1 = taxis.query(\"pickup_borough=='Brooklyn' and dropoff_borough=='Brooklyn'\")\n",
    "Brook1 = Brook1.sort_values(by='distance')\n",
    "Brook1.index = Brook1.distance"
   ]
  },
  {
   "cell_type": "code",
   "execution_count": 94,
   "id": "fd496165-7c3f-4572-b45f-38360f80d4e1",
   "metadata": {},
   "outputs": [
    {
     "data": {
      "text/html": [
       "<div>\n",
       "<style scoped>\n",
       "    .dataframe tbody tr th:only-of-type {\n",
       "        vertical-align: middle;\n",
       "    }\n",
       "\n",
       "    .dataframe tbody tr th {\n",
       "        vertical-align: top;\n",
       "    }\n",
       "\n",
       "    .dataframe thead th {\n",
       "        text-align: right;\n",
       "    }\n",
       "</style>\n",
       "<table border=\"1\" class=\"dataframe\">\n",
       "  <thead>\n",
       "    <tr style=\"text-align: right;\">\n",
       "      <th></th>\n",
       "      <th>pickup</th>\n",
       "      <th>dropoff</th>\n",
       "      <th>passengers</th>\n",
       "      <th>distance</th>\n",
       "      <th>fare</th>\n",
       "      <th>tip</th>\n",
       "      <th>tolls</th>\n",
       "      <th>total</th>\n",
       "      <th>color</th>\n",
       "      <th>payment</th>\n",
       "      <th>pickup_zone</th>\n",
       "      <th>dropoff_zone</th>\n",
       "      <th>pickup_borough</th>\n",
       "      <th>dropoff_borough</th>\n",
       "    </tr>\n",
       "    <tr>\n",
       "      <th>distance</th>\n",
       "      <th></th>\n",
       "      <th></th>\n",
       "      <th></th>\n",
       "      <th></th>\n",
       "      <th></th>\n",
       "      <th></th>\n",
       "      <th></th>\n",
       "      <th></th>\n",
       "      <th></th>\n",
       "      <th></th>\n",
       "      <th></th>\n",
       "      <th></th>\n",
       "      <th></th>\n",
       "      <th></th>\n",
       "    </tr>\n",
       "  </thead>\n",
       "  <tbody>\n",
       "    <tr>\n",
       "      <th>0.00</th>\n",
       "      <td>2019-03-08 15:41:20</td>\n",
       "      <td>2019-03-08 15:41:23</td>\n",
       "      <td>1</td>\n",
       "      <td>0.00</td>\n",
       "      <td>2.5</td>\n",
       "      <td>0.00</td>\n",
       "      <td>0.0</td>\n",
       "      <td>5.80</td>\n",
       "      <td>yellow</td>\n",
       "      <td>NaN</td>\n",
       "      <td>Hudson Sq</td>\n",
       "      <td>Hudson Sq</td>\n",
       "      <td>Manhattan</td>\n",
       "      <td>Manhattan</td>\n",
       "    </tr>\n",
       "    <tr>\n",
       "      <th>0.00</th>\n",
       "      <td>2019-03-27 15:18:33</td>\n",
       "      <td>2019-03-27 15:19:08</td>\n",
       "      <td>1</td>\n",
       "      <td>0.00</td>\n",
       "      <td>2.5</td>\n",
       "      <td>0.00</td>\n",
       "      <td>0.0</td>\n",
       "      <td>5.80</td>\n",
       "      <td>yellow</td>\n",
       "      <td>cash</td>\n",
       "      <td>Financial District North</td>\n",
       "      <td>World Trade Center</td>\n",
       "      <td>Manhattan</td>\n",
       "      <td>Manhattan</td>\n",
       "    </tr>\n",
       "    <tr>\n",
       "      <th>0.00</th>\n",
       "      <td>2019-03-01 22:48:59</td>\n",
       "      <td>2019-03-01 22:50:37</td>\n",
       "      <td>1</td>\n",
       "      <td>0.00</td>\n",
       "      <td>3.0</td>\n",
       "      <td>0.00</td>\n",
       "      <td>0.0</td>\n",
       "      <td>6.80</td>\n",
       "      <td>yellow</td>\n",
       "      <td>NaN</td>\n",
       "      <td>Times Sq/Theatre District</td>\n",
       "      <td>Times Sq/Theatre District</td>\n",
       "      <td>Manhattan</td>\n",
       "      <td>Manhattan</td>\n",
       "    </tr>\n",
       "    <tr>\n",
       "      <th>0.00</th>\n",
       "      <td>2019-03-26 06:57:27</td>\n",
       "      <td>2019-03-26 06:57:30</td>\n",
       "      <td>1</td>\n",
       "      <td>0.00</td>\n",
       "      <td>7.0</td>\n",
       "      <td>0.00</td>\n",
       "      <td>0.0</td>\n",
       "      <td>7.00</td>\n",
       "      <td>green</td>\n",
       "      <td>cash</td>\n",
       "      <td>Manhattanville</td>\n",
       "      <td>Manhattanville</td>\n",
       "      <td>Manhattan</td>\n",
       "      <td>Manhattan</td>\n",
       "    </tr>\n",
       "    <tr>\n",
       "      <th>0.00</th>\n",
       "      <td>2019-03-02 20:52:08</td>\n",
       "      <td>2019-03-02 20:54:28</td>\n",
       "      <td>2</td>\n",
       "      <td>0.00</td>\n",
       "      <td>3.5</td>\n",
       "      <td>0.00</td>\n",
       "      <td>0.0</td>\n",
       "      <td>7.30</td>\n",
       "      <td>yellow</td>\n",
       "      <td>cash</td>\n",
       "      <td>Midtown South</td>\n",
       "      <td>Midtown South</td>\n",
       "      <td>Manhattan</td>\n",
       "      <td>Manhattan</td>\n",
       "    </tr>\n",
       "    <tr>\n",
       "      <th>...</th>\n",
       "      <td>...</td>\n",
       "      <td>...</td>\n",
       "      <td>...</td>\n",
       "      <td>...</td>\n",
       "      <td>...</td>\n",
       "      <td>...</td>\n",
       "      <td>...</td>\n",
       "      <td>...</td>\n",
       "      <td>...</td>\n",
       "      <td>...</td>\n",
       "      <td>...</td>\n",
       "      <td>...</td>\n",
       "      <td>...</td>\n",
       "      <td>...</td>\n",
       "    </tr>\n",
       "    <tr>\n",
       "      <th>11.06</th>\n",
       "      <td>2019-03-16 20:24:58</td>\n",
       "      <td>2019-03-16 20:54:57</td>\n",
       "      <td>2</td>\n",
       "      <td>11.06</td>\n",
       "      <td>34.0</td>\n",
       "      <td>7.56</td>\n",
       "      <td>0.0</td>\n",
       "      <td>45.36</td>\n",
       "      <td>yellow</td>\n",
       "      <td>credit card</td>\n",
       "      <td>Gramercy</td>\n",
       "      <td>Inwood</td>\n",
       "      <td>Manhattan</td>\n",
       "      <td>Manhattan</td>\n",
       "    </tr>\n",
       "    <tr>\n",
       "      <th>11.30</th>\n",
       "      <td>2019-03-08 15:43:13</td>\n",
       "      <td>2019-03-08 16:41:11</td>\n",
       "      <td>1</td>\n",
       "      <td>11.30</td>\n",
       "      <td>40.0</td>\n",
       "      <td>8.65</td>\n",
       "      <td>0.0</td>\n",
       "      <td>51.95</td>\n",
       "      <td>yellow</td>\n",
       "      <td>credit card</td>\n",
       "      <td>Two Bridges/Seward Park</td>\n",
       "      <td>Washington Heights North</td>\n",
       "      <td>Manhattan</td>\n",
       "      <td>Manhattan</td>\n",
       "    </tr>\n",
       "    <tr>\n",
       "      <th>11.64</th>\n",
       "      <td>2019-03-15 16:29:17</td>\n",
       "      <td>2019-03-15 17:37:52</td>\n",
       "      <td>1</td>\n",
       "      <td>11.64</td>\n",
       "      <td>49.0</td>\n",
       "      <td>10.71</td>\n",
       "      <td>0.0</td>\n",
       "      <td>64.26</td>\n",
       "      <td>green</td>\n",
       "      <td>credit card</td>\n",
       "      <td>Washington Heights South</td>\n",
       "      <td>Midtown South</td>\n",
       "      <td>Manhattan</td>\n",
       "      <td>Manhattan</td>\n",
       "    </tr>\n",
       "    <tr>\n",
       "      <th>11.77</th>\n",
       "      <td>2019-03-09 04:14:32</td>\n",
       "      <td>2019-03-09 04:47:43</td>\n",
       "      <td>2</td>\n",
       "      <td>11.77</td>\n",
       "      <td>37.0</td>\n",
       "      <td>10.20</td>\n",
       "      <td>0.0</td>\n",
       "      <td>51.00</td>\n",
       "      <td>yellow</td>\n",
       "      <td>credit card</td>\n",
       "      <td>Lower East Side</td>\n",
       "      <td>Washington Heights South</td>\n",
       "      <td>Manhattan</td>\n",
       "      <td>Manhattan</td>\n",
       "    </tr>\n",
       "    <tr>\n",
       "      <th>13.27</th>\n",
       "      <td>2019-03-09 00:18:25</td>\n",
       "      <td>2019-03-09 00:51:18</td>\n",
       "      <td>2</td>\n",
       "      <td>13.27</td>\n",
       "      <td>40.5</td>\n",
       "      <td>8.86</td>\n",
       "      <td>0.0</td>\n",
       "      <td>53.16</td>\n",
       "      <td>yellow</td>\n",
       "      <td>credit card</td>\n",
       "      <td>Financial District North</td>\n",
       "      <td>Washington Heights North</td>\n",
       "      <td>Manhattan</td>\n",
       "      <td>Manhattan</td>\n",
       "    </tr>\n",
       "  </tbody>\n",
       "</table>\n",
       "<p>4885 rows × 14 columns</p>\n",
       "</div>"
      ],
      "text/plain": [
       "                       pickup              dropoff  passengers  distance  \\\n",
       "distance                                                                   \n",
       "0.00      2019-03-08 15:41:20  2019-03-08 15:41:23           1      0.00   \n",
       "0.00      2019-03-27 15:18:33  2019-03-27 15:19:08           1      0.00   \n",
       "0.00      2019-03-01 22:48:59  2019-03-01 22:50:37           1      0.00   \n",
       "0.00      2019-03-26 06:57:27  2019-03-26 06:57:30           1      0.00   \n",
       "0.00      2019-03-02 20:52:08  2019-03-02 20:54:28           2      0.00   \n",
       "...                       ...                  ...         ...       ...   \n",
       "11.06     2019-03-16 20:24:58  2019-03-16 20:54:57           2     11.06   \n",
       "11.30     2019-03-08 15:43:13  2019-03-08 16:41:11           1     11.30   \n",
       "11.64     2019-03-15 16:29:17  2019-03-15 17:37:52           1     11.64   \n",
       "11.77     2019-03-09 04:14:32  2019-03-09 04:47:43           2     11.77   \n",
       "13.27     2019-03-09 00:18:25  2019-03-09 00:51:18           2     13.27   \n",
       "\n",
       "          fare    tip  tolls  total   color      payment  \\\n",
       "distance                                                   \n",
       "0.00       2.5   0.00    0.0   5.80  yellow          NaN   \n",
       "0.00       2.5   0.00    0.0   5.80  yellow         cash   \n",
       "0.00       3.0   0.00    0.0   6.80  yellow          NaN   \n",
       "0.00       7.0   0.00    0.0   7.00   green         cash   \n",
       "0.00       3.5   0.00    0.0   7.30  yellow         cash   \n",
       "...        ...    ...    ...    ...     ...          ...   \n",
       "11.06     34.0   7.56    0.0  45.36  yellow  credit card   \n",
       "11.30     40.0   8.65    0.0  51.95  yellow  credit card   \n",
       "11.64     49.0  10.71    0.0  64.26   green  credit card   \n",
       "11.77     37.0  10.20    0.0  51.00  yellow  credit card   \n",
       "13.27     40.5   8.86    0.0  53.16  yellow  credit card   \n",
       "\n",
       "                        pickup_zone               dropoff_zone pickup_borough  \\\n",
       "distance                                                                        \n",
       "0.00                      Hudson Sq                  Hudson Sq      Manhattan   \n",
       "0.00       Financial District North         World Trade Center      Manhattan   \n",
       "0.00      Times Sq/Theatre District  Times Sq/Theatre District      Manhattan   \n",
       "0.00                 Manhattanville             Manhattanville      Manhattan   \n",
       "0.00                  Midtown South              Midtown South      Manhattan   \n",
       "...                             ...                        ...            ...   \n",
       "11.06                      Gramercy                     Inwood      Manhattan   \n",
       "11.30       Two Bridges/Seward Park   Washington Heights North      Manhattan   \n",
       "11.64      Washington Heights South              Midtown South      Manhattan   \n",
       "11.77               Lower East Side   Washington Heights South      Manhattan   \n",
       "13.27      Financial District North   Washington Heights North      Manhattan   \n",
       "\n",
       "         dropoff_borough  \n",
       "distance                  \n",
       "0.00           Manhattan  \n",
       "0.00           Manhattan  \n",
       "0.00           Manhattan  \n",
       "0.00           Manhattan  \n",
       "0.00           Manhattan  \n",
       "...                  ...  \n",
       "11.06          Manhattan  \n",
       "11.30          Manhattan  \n",
       "11.64          Manhattan  \n",
       "11.77          Manhattan  \n",
       "13.27          Manhattan  \n",
       "\n",
       "[4885 rows x 14 columns]"
      ]
     },
     "execution_count": 94,
     "metadata": {},
     "output_type": "execute_result"
    }
   ],
   "source": [
    "Man1"
   ]
  },
  {
   "cell_type": "code",
   "execution_count": 95,
   "id": "d6a0d568-c274-4b6d-b5d2-7cf0d79d5e99",
   "metadata": {},
   "outputs": [
    {
     "data": {
      "text/plain": [
       "[<matplotlib.lines.Line2D at 0x7fece00e1bb0>]"
      ]
     },
     "execution_count": 95,
     "metadata": {},
     "output_type": "execute_result"
    },
    {
     "data": {
      "image/png": "[encoded data removed]",
      "text/plain": [
       "<Figure size 864x432 with 1 Axes>"
      ]
     },
     "metadata": {
      "needs_background": "light"
     },
     "output_type": "display_data"
    }
   ],
   "source": [
    "taxi = plt.figure(figsize=(12,6))\n",
    "plt.plot(Brook1.fare, color='red')\n",
    "plt.title('Fare vs. Ride Distance in Brooklyn and Manhattan')\n",
    "plt.xlabel('Ride Distance')\n",
    "plt.ylabel('Fare')\n",
    "plt.plot(Man1.fare, color='blue')"
   ]
  },
  {
   "cell_type": "code",
   "execution_count": 96,
   "id": "f5206076-a95f-4fcf-8f0c-1375795f8245",
   "metadata": {},
   "outputs": [],
   "source": [
    "car = sns.load_dataset('car_crashes')"
   ]
  },
  {
   "cell_type": "code",
   "execution_count": 97,
   "id": "b907984c-e111-4fdd-97c9-83d8fa7b68ef",
   "metadata": {},
   "outputs": [
    {
     "data": {
      "text/plain": [
       "Text(0, 0.5, 'Insurance Premium')"
      ]
     },
     "execution_count": 97,
     "metadata": {},
     "output_type": "execute_result"
    },
    {
     "data": {
      "image/png": "[encoded data removed]",
      "text/plain": [
       "<Figure size 432x288 with 1 Axes>"
      ]
     },
     "metadata": {
      "needs_background": "light"
     },
     "output_type": "display_data"
    }
   ],
   "source": [
    "plt.boxplot(car.ins_premium)\n",
    "plt.ylabel('Insurance Premium')"
   ]
  },
  {
   "cell_type": "code",
   "execution_count": 98,
   "id": "55b5aa6a-945d-450d-8f51-b89a7de33f5e",
   "metadata": {},
   "outputs": [
    {
     "data": {
      "text/html": [
       "<div>\n",
       "<style scoped>\n",
       "    .dataframe tbody tr th:only-of-type {\n",
       "        vertical-align: middle;\n",
       "    }\n",
       "\n",
       "    .dataframe tbody tr th {\n",
       "        vertical-align: top;\n",
       "    }\n",
       "\n",
       "    .dataframe thead th {\n",
       "        text-align: right;\n",
       "    }\n",
       "</style>\n",
       "<table border=\"1\" class=\"dataframe\">\n",
       "  <thead>\n",
       "    <tr style=\"text-align: right;\">\n",
       "      <th></th>\n",
       "      <th>total</th>\n",
       "      <th>speeding</th>\n",
       "      <th>alcohol</th>\n",
       "      <th>not_distracted</th>\n",
       "      <th>no_previous</th>\n",
       "      <th>ins_premium</th>\n",
       "      <th>ins_losses</th>\n",
       "    </tr>\n",
       "  </thead>\n",
       "  <tbody>\n",
       "    <tr>\n",
       "      <th>count</th>\n",
       "      <td>51.000000</td>\n",
       "      <td>51.000000</td>\n",
       "      <td>51.000000</td>\n",
       "      <td>51.000000</td>\n",
       "      <td>51.000000</td>\n",
       "      <td>51.000000</td>\n",
       "      <td>51.000000</td>\n",
       "    </tr>\n",
       "    <tr>\n",
       "      <th>mean</th>\n",
       "      <td>15.790196</td>\n",
       "      <td>4.998196</td>\n",
       "      <td>4.886784</td>\n",
       "      <td>13.573176</td>\n",
       "      <td>14.004882</td>\n",
       "      <td>886.957647</td>\n",
       "      <td>134.493137</td>\n",
       "    </tr>\n",
       "    <tr>\n",
       "      <th>std</th>\n",
       "      <td>4.122002</td>\n",
       "      <td>2.017747</td>\n",
       "      <td>1.729133</td>\n",
       "      <td>4.508977</td>\n",
       "      <td>3.764672</td>\n",
       "      <td>178.296285</td>\n",
       "      <td>24.835922</td>\n",
       "    </tr>\n",
       "    <tr>\n",
       "      <th>min</th>\n",
       "      <td>5.900000</td>\n",
       "      <td>1.792000</td>\n",
       "      <td>1.593000</td>\n",
       "      <td>1.760000</td>\n",
       "      <td>5.900000</td>\n",
       "      <td>641.960000</td>\n",
       "      <td>82.750000</td>\n",
       "    </tr>\n",
       "    <tr>\n",
       "      <th>25%</th>\n",
       "      <td>12.750000</td>\n",
       "      <td>3.766500</td>\n",
       "      <td>3.894000</td>\n",
       "      <td>10.478000</td>\n",
       "      <td>11.348000</td>\n",
       "      <td>768.430000</td>\n",
       "      <td>114.645000</td>\n",
       "    </tr>\n",
       "    <tr>\n",
       "      <th>50%</th>\n",
       "      <td>15.600000</td>\n",
       "      <td>4.608000</td>\n",
       "      <td>4.554000</td>\n",
       "      <td>13.857000</td>\n",
       "      <td>13.775000</td>\n",
       "      <td>858.970000</td>\n",
       "      <td>136.050000</td>\n",
       "    </tr>\n",
       "    <tr>\n",
       "      <th>75%</th>\n",
       "      <td>18.500000</td>\n",
       "      <td>6.439000</td>\n",
       "      <td>5.604000</td>\n",
       "      <td>16.140000</td>\n",
       "      <td>16.755000</td>\n",
       "      <td>1007.945000</td>\n",
       "      <td>151.870000</td>\n",
       "    </tr>\n",
       "    <tr>\n",
       "      <th>max</th>\n",
       "      <td>23.900000</td>\n",
       "      <td>9.450000</td>\n",
       "      <td>10.038000</td>\n",
       "      <td>23.661000</td>\n",
       "      <td>21.280000</td>\n",
       "      <td>1301.520000</td>\n",
       "      <td>194.780000</td>\n",
       "    </tr>\n",
       "  </tbody>\n",
       "</table>\n",
       "</div>"
      ],
      "text/plain": [
       "           total   speeding    alcohol  not_distracted  no_previous  \\\n",
       "count  51.000000  51.000000  51.000000       51.000000    51.000000   \n",
       "mean   15.790196   4.998196   4.886784       13.573176    14.004882   \n",
       "std     4.122002   2.017747   1.729133        4.508977     3.764672   \n",
       "min     5.900000   1.792000   1.593000        1.760000     5.900000   \n",
       "25%    12.750000   3.766500   3.894000       10.478000    11.348000   \n",
       "50%    15.600000   4.608000   4.554000       13.857000    13.775000   \n",
       "75%    18.500000   6.439000   5.604000       16.140000    16.755000   \n",
       "max    23.900000   9.450000  10.038000       23.661000    21.280000   \n",
       "\n",
       "       ins_premium  ins_losses  \n",
       "count    51.000000   51.000000  \n",
       "mean    886.957647  134.493137  \n",
       "std     178.296285   24.835922  \n",
       "min     641.960000   82.750000  \n",
       "25%     768.430000  114.645000  \n",
       "50%     858.970000  136.050000  \n",
       "75%    1007.945000  151.870000  \n",
       "max    1301.520000  194.780000  "
      ]
     },
     "execution_count": 98,
     "metadata": {},
     "output_type": "execute_result"
    }
   ],
   "source": [
    "car.describe()"
   ]
  },
  {
   "cell_type": "code",
   "execution_count": 99,
   "id": "cef314ac-d854-4429-aa2a-4bcec274371e",
   "metadata": {},
   "outputs": [
    {
     "data": {
      "text/plain": [
       "Text(0, 0.5, 'Number of States')"
      ]
     },
     "execution_count": 99,
     "metadata": {},
     "output_type": "execute_result"
    },
    {
     "data": {
      "image/png": "[encoded data removed]",
      "text/plain": [
       "<Figure size 432x288 with 1 Axes>"
      ]
     },
     "metadata": {
      "needs_background": "light"
     },
     "output_type": "display_data"
    }
   ],
   "source": [
    "plt.hist(car.speeding, bins=20)\n",
    "plt.title('Speeding Accident Involvement Distribution')\n",
    "plt.xlabel('Percent Accidents Involving Speeding')\n",
    "plt.ylabel('Number of States')"
   ]
  },
  {
   "cell_type": "code",
   "execution_count": 100,
   "id": "09dc2e31-74f9-477b-a6d4-fdba16523996",
   "metadata": {},
   "outputs": [
    {
     "data": {
      "text/plain": [
       "<seaborn.axisgrid.FacetGrid at 0x7fed41d02af0>"
      ]
     },
     "execution_count": 100,
     "metadata": {},
     "output_type": "execute_result"
    },
    {
     "data": {
      "image/png": "[encoded data removed]",
      "text/plain": [
       "<Figure size 360x360 with 1 Axes>"
      ]
     },
     "metadata": {
      "needs_background": "light"
     },
     "output_type": "display_data"
    }
   ],
   "source": [
    "sns.displot(car.speeding, kde='true')"
   ]
  },
  {
   "cell_type": "code",
   "execution_count": 101,
   "id": "fa70691a-cdfa-4d35-bb9b-9862ce40b54b",
   "metadata": {},
   "outputs": [
    {
     "data": {
      "text/plain": [
       "<AxesSubplot:>"
      ]
     },
     "execution_count": 101,
     "metadata": {},
     "output_type": "execute_result"
    },
    {
     "data": {
      "image/png": "[encoded data removed]",
      "text/plain": [
       "<Figure size 432x288 with 2 Axes>"
      ]
     },
     "metadata": {
      "needs_background": "light"
     },
     "output_type": "display_data"
    }
   ],
   "source": [
    "sns.heatmap(car.corr())"
   ]
  },
  {
   "cell_type": "code",
   "execution_count": 102,
   "id": "ca81e2bf-a33d-420f-8488-43ab3d587455",
   "metadata": {},
   "outputs": [],
   "source": [
    "titanic = sns.load_dataset('titanic')"
   ]
  },
  {
   "cell_type": "code",
   "execution_count": 103,
   "id": "5da5caf5-1408-436f-bcd3-8a65841908e9",
   "metadata": {},
   "outputs": [
    {
     "data": {
      "text/html": [
       "<div>\n",
       "<style scoped>\n",
       "    .dataframe tbody tr th:only-of-type {\n",
       "        vertical-align: middle;\n",
       "    }\n",
       "\n",
       "    .dataframe tbody tr th {\n",
       "        vertical-align: top;\n",
       "    }\n",
       "\n",
       "    .dataframe thead th {\n",
       "        text-align: right;\n",
       "    }\n",
       "</style>\n",
       "<table border=\"1\" class=\"dataframe\">\n",
       "  <thead>\n",
       "    <tr style=\"text-align: right;\">\n",
       "      <th></th>\n",
       "      <th>survived</th>\n",
       "      <th>pclass</th>\n",
       "      <th>sex</th>\n",
       "      <th>age</th>\n",
       "      <th>sibsp</th>\n",
       "      <th>parch</th>\n",
       "      <th>fare</th>\n",
       "      <th>embarked</th>\n",
       "      <th>class</th>\n",
       "      <th>who</th>\n",
       "      <th>adult_male</th>\n",
       "      <th>deck</th>\n",
       "      <th>embark_town</th>\n",
       "      <th>alive</th>\n",
       "      <th>alone</th>\n",
       "    </tr>\n",
       "  </thead>\n",
       "  <tbody>\n",
       "    <tr>\n",
       "      <th>0</th>\n",
       "      <td>0</td>\n",
       "      <td>3</td>\n",
       "      <td>male</td>\n",
       "      <td>22.0</td>\n",
       "      <td>1</td>\n",
       "      <td>0</td>\n",
       "      <td>7.2500</td>\n",
       "      <td>S</td>\n",
       "      <td>Third</td>\n",
       "      <td>man</td>\n",
       "      <td>True</td>\n",
       "      <td>NaN</td>\n",
       "      <td>Southampton</td>\n",
       "      <td>no</td>\n",
       "      <td>False</td>\n",
       "    </tr>\n",
       "    <tr>\n",
       "      <th>1</th>\n",
       "      <td>1</td>\n",
       "      <td>1</td>\n",
       "      <td>female</td>\n",
       "      <td>38.0</td>\n",
       "      <td>1</td>\n",
       "      <td>0</td>\n",
       "      <td>71.2833</td>\n",
       "      <td>C</td>\n",
       "      <td>First</td>\n",
       "      <td>woman</td>\n",
       "      <td>False</td>\n",
       "      <td>C</td>\n",
       "      <td>Cherbourg</td>\n",
       "      <td>yes</td>\n",
       "      <td>False</td>\n",
       "    </tr>\n",
       "    <tr>\n",
       "      <th>2</th>\n",
       "      <td>1</td>\n",
       "      <td>3</td>\n",
       "      <td>female</td>\n",
       "      <td>26.0</td>\n",
       "      <td>0</td>\n",
       "      <td>0</td>\n",
       "      <td>7.9250</td>\n",
       "      <td>S</td>\n",
       "      <td>Third</td>\n",
       "      <td>woman</td>\n",
       "      <td>False</td>\n",
       "      <td>NaN</td>\n",
       "      <td>Southampton</td>\n",
       "      <td>yes</td>\n",
       "      <td>True</td>\n",
       "    </tr>\n",
       "    <tr>\n",
       "      <th>3</th>\n",
       "      <td>1</td>\n",
       "      <td>1</td>\n",
       "      <td>female</td>\n",
       "      <td>35.0</td>\n",
       "      <td>1</td>\n",
       "      <td>0</td>\n",
       "      <td>53.1000</td>\n",
       "      <td>S</td>\n",
       "      <td>First</td>\n",
       "      <td>woman</td>\n",
       "      <td>False</td>\n",
       "      <td>C</td>\n",
       "      <td>Southampton</td>\n",
       "      <td>yes</td>\n",
       "      <td>False</td>\n",
       "    </tr>\n",
       "    <tr>\n",
       "      <th>4</th>\n",
       "      <td>0</td>\n",
       "      <td>3</td>\n",
       "      <td>male</td>\n",
       "      <td>35.0</td>\n",
       "      <td>0</td>\n",
       "      <td>0</td>\n",
       "      <td>8.0500</td>\n",
       "      <td>S</td>\n",
       "      <td>Third</td>\n",
       "      <td>man</td>\n",
       "      <td>True</td>\n",
       "      <td>NaN</td>\n",
       "      <td>Southampton</td>\n",
       "      <td>no</td>\n",
       "      <td>True</td>\n",
       "    </tr>\n",
       "  </tbody>\n",
       "</table>\n",
       "</div>"
      ],
      "text/plain": [
       "   survived  pclass     sex   age  sibsp  parch     fare embarked  class  \\\n",
       "0         0       3    male  22.0      1      0   7.2500        S  Third   \n",
       "1         1       1  female  38.0      1      0  71.2833        C  First   \n",
       "2         1       3  female  26.0      0      0   7.9250        S  Third   \n",
       "3         1       1  female  35.0      1      0  53.1000        S  First   \n",
       "4         0       3    male  35.0      0      0   8.0500        S  Third   \n",
       "\n",
       "     who  adult_male deck  embark_town alive  alone  \n",
       "0    man        True  NaN  Southampton    no  False  \n",
       "1  woman       False    C    Cherbourg   yes  False  \n",
       "2  woman       False  NaN  Southampton   yes   True  \n",
       "3  woman       False    C  Southampton   yes  False  \n",
       "4    man        True  NaN  Southampton    no   True  "
      ]
     },
     "execution_count": 103,
     "metadata": {},
     "output_type": "execute_result"
    }
   ],
   "source": [
    "titanic.head()"
   ]
  },
  {
   "cell_type": "code",
   "execution_count": 104,
   "id": "ebcdca00-5130-48ac-82be-808a32b99d50",
   "metadata": {},
   "outputs": [
    {
     "data": {
      "text/plain": [
       "<seaborn.axisgrid.PairGrid at 0x7fed21c6c3d0>"
      ]
     },
     "execution_count": 104,
     "metadata": {},
     "output_type": "execute_result"
    },
    {
     "data": {
      "image/png": "[encoded data removed]",
      "text/plain": [
       "<Figure size 593.25x540 with 12 Axes>"
      ]
     },
     "metadata": {
      "needs_background": "light"
     },
     "output_type": "display_data"
    }
   ],
   "source": [
    "sns.pairplot(titanic[['alone','age','fare', 'class', 'sex','alive']], hue='alive')"
   ]
  }
 ],
 "metadata": {
  "kernelspec": {
   "display_name": "Python 3",
   "language": "python",
   "name": "python3"
  },
  "language_info": {
   "codemirror_mode": {
    "name": "ipython",
    "version": 3
   },
   "file_extension": ".py",
   "mimetype": "text/x-python",
   "name": "python",
   "nbconvert_exporter": "python",
   "pygments_lexer": "ipython3",
   "version": "3.8.8"
  }
 },
 "nbformat": 4,
 "nbformat_minor": 5
}
